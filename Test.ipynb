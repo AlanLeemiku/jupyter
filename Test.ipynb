{
  "nbformat": 4,
  "nbformat_minor": 0,
  "metadata": {
    "colab": {
      "provenance": [],
      "collapsed_sections": [],
      "authorship_tag": "ABX9TyOnsmBpPwr0u0c2VVUiX9lS",
      "include_colab_link": true
    },
    "kernelspec": {
      "name": "python3",
      "display_name": "Python 3"
    },
    "language_info": {
      "name": "python"
    }
  },
  "cells": [
    {
      "cell_type": "markdown",
      "metadata": {
        "id": "view-in-github",
        "colab_type": "text"
      },
      "source": [
        "<a href=\"https://colab.research.google.com/github/AlanLeemiku/jupyter/blob/main/Test.ipynb\" target=\"_parent\"><img src=\"https://colab.research.google.com/assets/colab-badge.svg\" alt=\"Open In Colab\"/></a>"
      ]
    },
    {
      "cell_type": "code",
      "execution_count": null,
      "metadata": {
        "colab": {
          "base_uri": "https://localhost:8080/"
        },
        "id": "hgQwKfmEkLnj",
        "outputId": "d862e2a6-5a3e-4912-8efb-8e9f11d58608"
      },
      "outputs": [
        {
          "output_type": "stream",
          "name": "stdout",
          "text": [
            "hello world\n"
          ]
        }
      ],
      "source": [
        "print('hello world')"
      ]
    },
    {
      "cell_type": "code",
      "source": [
        "from fractions import Fraction\n",
        "que = input('Please input your expression:')\n",
        "Num1,sym,Num2=que.split(' ')\n",
        "if Num1.find('/')==-1:\n",
        "    num1 = Fraction(int(Num1))\n",
        "else :\n",
        "    num1 = Fraction(int(Num1[:Num1.find('/')]),int(Num1[Num1.find('/')+1:]))\n",
        "if Num2.find('/')==-1:\n",
        "    num2 = Fraction(int(Num2)) \n",
        "else :\n",
        "    num2 = Fraction(int(Num2[:Num2.find('/')]),int(Num2[Num2.find('/')+1:]))\n",
        "if sym == '+':\n",
        "    res= num1 + num2\n",
        "elif sym=='-':\n",
        "    res= num1 - num2\n",
        "elif sym=='*':\n",
        "    res= num1 * num2\n",
        "elif sym=='/':\n",
        "    res= num1 / num2\n",
        "print(que + ' =',res)"
      ],
      "metadata": {
        "id": "6wtWyASQncxs"
      },
      "execution_count": null,
      "outputs": []
    }
  ]
}